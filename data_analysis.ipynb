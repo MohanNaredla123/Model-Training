{
 "cells": [
  {
   "cell_type": "code",
   "execution_count": 231,
   "id": "98866f32",
   "metadata": {},
   "outputs": [],
   "source": [
    "import pandas as pd"
   ]
  },
  {
   "cell_type": "code",
   "execution_count": 232,
   "id": "ceb25ebe",
   "metadata": {},
   "outputs": [],
   "source": [
    "df1 = pd.read_excel(\"C:/Users/BVM11/Downloads/2024_attendance_data.xlsx\", engine=\"openpyxl\", sheet_name='Sheet1')\n",
    "df2 = pd.read_excel(\"C:/Users/BVM11/Downloads/2019_attendance_data.xlsx\", engine=\"openpyxl\")\n",
    "df3 = pd.read_excel(\"C:/Users/BVM11/Downloads/2020_attendance_data.xlsx\", engine=\"openpyxl\")\n",
    "df4 = pd.read_excel(\"C:/Users/BVM11/Downloads/2021_attendance_data.xlsx\", engine=\"openpyxl\")\n",
    "df5 = pd.read_excel(\"C:/Users/BVM11/Downloads/2022_attendance_data.xlsx\", engine=\"openpyxl\")\n",
    "df6 = pd.read_excel(\"C:/Users/BVM11/Downloads/2023_attendance_data.xlsx\", engine=\"openpyxl\")"
   ]
  },
  {
   "cell_type": "code",
   "execution_count": 233,
   "id": "c5fe4ed0",
   "metadata": {},
   "outputs": [
    {
     "name": "stdout",
     "output_type": "stream",
     "text": [
      "<class 'pandas.core.frame.DataFrame'>\n",
      "RangeIndex: 299833 entries, 0 to 299832\n",
      "Data columns (total 17 columns):\n",
      " #   Column                       Non-Null Count   Dtype  \n",
      "---  ------                       --------------   -----  \n",
      " 0   SCHOOL_YEAR                  299833 non-null  object \n",
      " 1   DISTRICT_CODE                299833 non-null  int64  \n",
      " 2   DISTRICT_NAME                299833 non-null  object \n",
      " 3   LOCATION_ID                  299833 non-null  int64  \n",
      " 4   SCHOOL_NAME                  299833 non-null  object \n",
      " 5   STUDENT_ID                   299833 non-null  int64  \n",
      " 6   Total_Days_Unexcused_Absent  299833 non-null  float64\n",
      " 7   Total_Days_Enrolled          299833 non-null  int64  \n",
      " 8   Total_Days_Present           299833 non-null  float64\n",
      " 9   STUDENT_GRADE_LEVEL          299833 non-null  object \n",
      " 10  CURR_GRADE_ORD               299833 non-null  object \n",
      " 11  ETHNIC_CODE                  295141 non-null  object \n",
      " 12  STUDENT_GENDER               299211 non-null  object \n",
      " 13  ECONOMIC_CODE                299833 non-null  object \n",
      " 14  SPECIAL_ED_CODE              299833 non-null  object \n",
      " 15  ENG_PROF_CODE                299833 non-null  int64  \n",
      " 16  HISPANIC_IND                 299833 non-null  object \n",
      "dtypes: float64(2), int64(5), object(10)\n",
      "memory usage: 38.9+ MB\n"
     ]
    }
   ],
   "source": [
    "df1.info()"
   ]
  },
  {
   "cell_type": "code",
   "execution_count": 234,
   "id": "6bd30c10",
   "metadata": {},
   "outputs": [],
   "source": [
    "name_map = {\n",
    "    'TOTAL_DAYS_UNEXCUSED_ABSENT': 'Total_Days_Unexcused_Absent',\n",
    "    'TOTAL_DAYS_ENROLLED': 'Total_Days_Enrolled',\n",
    "    'TOTAL_DAYS_PRESENT': 'Total_Days_Present'\n",
    "}\n",
    "\n",
    "df1 = df1.rename(name_map, axis=1)"
   ]
  },
  {
   "cell_type": "code",
   "execution_count": 235,
   "id": "100ba66d",
   "metadata": {},
   "outputs": [],
   "source": [
    "mapper = {\n",
    "    'A': 'Asian',\n",
    "    'B': 'Black or African American',\n",
    "    'C': 'Caucasian',\n",
    "    'I': 'American Indian/Alaskan Native',\n",
    "    'P': 'Native Hawaiian or Other Pacific Islander',\n",
    "    'H': 'Hispanic',\n",
    "    'MR': 'Multi-Racial'\n",
    "}\n",
    "\n",
    "df1['ETHNIC_CODE'] = df1['ETHNIC_CODE'].replace(list(mapper.values()), list(mapper.keys()))"
   ]
  },
  {
   "cell_type": "code",
   "execution_count": 236,
   "id": "2503cfc0",
   "metadata": {},
   "outputs": [
    {
     "name": "stderr",
     "output_type": "stream",
     "text": [
      "C:\\Users\\BVM11\\AppData\\Local\\Temp\\ipykernel_24556\\2517280058.py:5: FutureWarning: Downcasting behavior in `replace` is deprecated and will be removed in a future version. To retain the old behavior, explicitly call `result.infer_objects(copy=False)`. To opt-in to the future behavior, set `pd.set_option('future.no_silent_downcasting', True)`\n",
      "  df1['STUDENT_GRADE_LEVEL'] = df1['STUDENT_GRADE_LEVEL'].replace(['KF', 'PK'], [0, -1]).astype('int')\n"
     ]
    }
   ],
   "source": [
    "df1['ECONOMIC_CODE'] = df1['ECONOMIC_CODE'].replace([0, 1], ['N', 'F'])\n",
    "df1['SPECIAL_ED_CODE'] = df1['SPECIAL_ED_CODE'].replace([0, 1], ['N', 'Y'])\n",
    "df1['HISPANIC_IND'] = df1['HISPANIC_IND'].replace([0, 1], ['No', 'Yes'])\n",
    "df1['STUDENT_GENDER'] = df1['STUDENT_GENDER'].replace(['M', 'F'], ['Male', 'Female'])\n",
    "df1['STUDENT_GRADE_LEVEL'] = df1['STUDENT_GRADE_LEVEL'].replace(['KF', 'PK'], [0, -1]).astype('int')"
   ]
  },
  {
   "cell_type": "code",
   "execution_count": 237,
   "id": "5a29a8ef",
   "metadata": {},
   "outputs": [],
   "source": [
    "duplicated_students =  df1[df1['STUDENT_ID'].duplicated(keep=False)].copy()\n",
    "\n",
    "grade_pattern_ids = []\n",
    "school_pattern_ids = []\n",
    "grade_and_school_pattern_ids = []\n",
    "ethnic_pattern_ids = []\n",
    "\n",
    "for student, group in duplicated_students.groupby('STUDENT_ID'):\n",
    "    if len(group) < 2:\n",
    "        continue\n",
    "\n",
    "    if group['STUDENT_GRADE_LEVEL'].nunique() > 1 and group['SCHOOL_NAME'].nunique() == 1:\n",
    "        grade_pattern_ids.append(student)\n",
    "\n",
    "    elif group['SCHOOL_NAME'].nunique() > 1 and group['STUDENT_GRADE_LEVEL'].nunique() == 1:\n",
    "        school_pattern_ids.append(student)\n",
    "    \n",
    "    elif group['SCHOOL_NAME'].nunique() > 1 and group['STUDENT_GRADE_LEVEL'].nunique() > 1:\n",
    "        grade_and_school_pattern_ids.append(student)\n",
    "    \n",
    "    else:\n",
    "        ethnic_pattern_ids.append(student)\n",
    "\n",
    "\n",
    "grade_pattern_df = duplicated_students[duplicated_students['STUDENT_ID'].isin(grade_pattern_ids)]\n",
    "school_pattern_df = duplicated_students[duplicated_students['STUDENT_ID'].isin(school_pattern_ids)]\n",
    "grade_and_school_pattern_df = duplicated_students[duplicated_students['STUDENT_ID'].isin(grade_and_school_pattern_ids)]\n",
    "ethnic_pattern_df = duplicated_students[duplicated_students['STUDENT_ID'].isin(ethnic_pattern_ids)]"
   ]
  },
  {
   "cell_type": "code",
   "execution_count": 238,
   "id": "738a2091",
   "metadata": {},
   "outputs": [],
   "source": [
    "ethnic_pattern_df = ethnic_pattern_df.drop_duplicates(subset='STUDENT_ID', keep='first')\n",
    "school_pattern_df = school_pattern_df.drop_duplicates(subset=['STUDENT_ID', 'SCHOOL_NAME'], keep='last').fillna('C')\n",
    "grade_and_school_pattern_df = grade_and_school_pattern_df.drop_duplicates(subset='STUDENT_ID', keep='last')"
   ]
  },
  {
   "cell_type": "code",
   "execution_count": 239,
   "id": "51a35201",
   "metadata": {},
   "outputs": [],
   "source": [
    "df6['STUDENT_GRADE_LEVEL'] = df6['STUDENT_GRADE_LEVEL'].replace(['KF', 'PK'], [0, -1])\n",
    "df6_unique = df6.drop_duplicates(subset=['STUDENT_ID'], keep='first')\n",
    "\n",
    "df = (\n",
    "    grade_pattern_df\n",
    "    .merge(df6_unique, on=\"STUDENT_ID\", how=\"left\", suffixes=(\"\", \"_prev\"))\n",
    ")\n",
    "\n",
    "df[\"expected_grade\"] = df[\"STUDENT_GRADE_LEVEL_prev\"] + 1\n",
    "df[\"has_prev\"] = df[\"STUDENT_GRADE_LEVEL_prev\"].notna()\n",
    "\n",
    "keepers = df.loc[\n",
    "      (df[\"STUDENT_GRADE_LEVEL\"] == df[\"expected_grade\"])\n",
    "   | (~df[\"has_prev\"] & (df[\"STUDENT_GRADE_LEVEL\"] == -1))\n",
    "].copy()\n",
    "\n",
    "flagged = df.drop(index=keepers.index).copy()\n",
    "\n",
    "keepers = keepers[grade_pattern_df.columns]\n",
    "flagged = flagged[grade_pattern_df.columns.to_list()]"
   ]
  },
  {
   "cell_type": "code",
   "execution_count": 240,
   "id": "5d5e7cce",
   "metadata": {},
   "outputs": [],
   "source": [
    "flagged = flagged[~flagged['STUDENT_ID'].isin(keepers['STUDENT_ID'].values)]\n",
    "idx = flagged.groupby('STUDENT_ID')['STUDENT_GRADE_LEVEL'].idxmax()\n",
    "flagged = flagged.loc[idx].reset_index(drop=True)"
   ]
  },
  {
   "cell_type": "code",
   "execution_count": 241,
   "id": "fd41c317",
   "metadata": {},
   "outputs": [],
   "source": [
    "dropping_ids = grade_and_school_pattern_ids + grade_pattern_ids + school_pattern_ids + ethnic_pattern_ids\n",
    "df1 = df1[~df1['STUDENT_ID'].isin(dropping_ids)]\n",
    "df1 = pd.concat([df1, ethnic_pattern_df, school_pattern_df, keepers, flagged, grade_and_school_pattern_df], axis=0).reset_index(drop=True)"
   ]
  },
  {
   "cell_type": "code",
   "execution_count": 242,
   "id": "b22e5e8e",
   "metadata": {},
   "outputs": [
    {
     "name": "stdout",
     "output_type": "stream",
     "text": [
      "<class 'pandas.core.frame.DataFrame'>\n",
      "RangeIndex: 299511 entries, 0 to 299510\n",
      "Data columns (total 17 columns):\n",
      " #   Column                       Non-Null Count   Dtype  \n",
      "---  ------                       --------------   -----  \n",
      " 0   SCHOOL_YEAR                  299511 non-null  object \n",
      " 1   DISTRICT_CODE                299511 non-null  int64  \n",
      " 2   DISTRICT_NAME                299511 non-null  object \n",
      " 3   LOCATION_ID                  299511 non-null  int64  \n",
      " 4   SCHOOL_NAME                  299511 non-null  object \n",
      " 5   STUDENT_ID                   299511 non-null  int64  \n",
      " 6   Total_Days_Unexcused_Absent  299511 non-null  float64\n",
      " 7   Total_Days_Enrolled          299511 non-null  int64  \n",
      " 8   Total_Days_Present           299511 non-null  float64\n",
      " 9   STUDENT_GRADE_LEVEL          299511 non-null  int64  \n",
      " 10  CURR_GRADE_ORD               299511 non-null  object \n",
      " 11  ETHNIC_CODE                  299511 non-null  object \n",
      " 12  STUDENT_GENDER               299511 non-null  object \n",
      " 13  ECONOMIC_CODE                299511 non-null  object \n",
      " 14  SPECIAL_ED_CODE              299511 non-null  object \n",
      " 15  ENG_PROF_CODE                299511 non-null  int64  \n",
      " 16  HISPANIC_IND                 299511 non-null  object \n",
      "dtypes: float64(2), int64(6), object(9)\n",
      "memory usage: 38.8+ MB\n"
     ]
    }
   ],
   "source": [
    "gender_lookup = (\n",
    "    df6\n",
    "      .dropna(subset=[\"STUDENT_GENDER\"])\n",
    "      .groupby([\"SCHOOL_NAME\", \"STUDENT_ID\"], sort=False)[\"STUDENT_GENDER\"]\n",
    "      .first()\n",
    ")\n",
    "\n",
    "mask = df1[\"STUDENT_GENDER\"].isna()\n",
    "keys = list(zip(df1.loc[mask, \"SCHOOL_NAME\"], df1.loc[mask, \"STUDENT_ID\"]))\n",
    "df1.loc[mask, \"STUDENT_GENDER\"] = [gender_lookup.get(k, pd.NA) for k in keys]\n",
    "df1['STUDENT_GENDER'] = df1['STUDENT_GENDER'].fillna(df1['STUDENT_GENDER'].mode().values[0])\n",
    "df1['ETHNIC_CODE'] = df1['ETHNIC_CODE'].fillna('C')\n",
    "df1.info()"
   ]
  },
  {
   "cell_type": "code",
   "execution_count": 243,
   "id": "216b72d9",
   "metadata": {},
   "outputs": [],
   "source": [
    "df1 = df1.drop(72159, axis=0)  #Dropped a record whose total days enrolled > 365"
   ]
  },
  {
   "cell_type": "code",
   "execution_count": 244,
   "id": "f56a9e52",
   "metadata": {},
   "outputs": [],
   "source": [
    "duplicated_past = df3[df3['STUDENT_ID'].duplicated(keep=False)].sort_values(by='STUDENT_ID')\n",
    "\n",
    "non_duplicates = []\n",
    "others = []\n",
    "duplicates = []\n",
    "for student, group in duplicated_past.groupby('STUDENT_ID'):\n",
    "    if len(group) < 2:\n",
    "        continue\n",
    "\n",
    "    if group['SCHOOL_NAME'].nunique() == 1:\n",
    "        non_duplicates.append(student)\n",
    "    \n",
    "    elif group['SCHOOL_NAME'].nunique() > 1:\n",
    "        duplicates.append(student)\n",
    "        \n",
    "    else:\n",
    "        others.append(student)\n",
    "\n",
    "non_dup = duplicated_past[duplicated_past['STUDENT_ID'].isin(non_duplicates)]\n",
    "dup = duplicated_past[duplicated_past['STUDENT_ID'].isin(duplicates)]\n",
    "other = duplicated_past[duplicated_past['STUDENT_ID'].isin(others)]"
   ]
  },
  {
   "cell_type": "code",
   "execution_count": 245,
   "id": "22776a1b",
   "metadata": {},
   "outputs": [],
   "source": [
    "df['DISTRICT_CODE'] = df['DISTRICT_CODE'].astype(str).str.zfill(3)\n",
    "df['LOCATION_ID'] = df['LOCATION_ID'].astype(str).str.zfill(3)\n",
    "\n",
    "df = pd.concat([df2, df3, df4, df5, df6, df1], axis=0).reset_index(drop=True)\n",
    "df.to_csv('C:/Users/BVM11/Downloads/CompleteData.csv', index=False)"
   ]
  },
  {
   "cell_type": "code",
   "execution_count": null,
   "id": "242a6116",
   "metadata": {},
   "outputs": [],
   "source": []
  }
 ],
 "metadata": {
  "kernelspec": {
   "display_name": ".venv",
   "language": "python",
   "name": "python3"
  },
  "language_info": {
   "codemirror_mode": {
    "name": "ipython",
    "version": 3
   },
   "file_extension": ".py",
   "mimetype": "text/x-python",
   "name": "python",
   "nbconvert_exporter": "python",
   "pygments_lexer": "ipython3",
   "version": "3.11.12"
  }
 },
 "nbformat": 4,
 "nbformat_minor": 5
}
