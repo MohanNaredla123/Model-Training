{
 "cells": [
  {
   "cell_type": "code",
   "execution_count": 1,
   "id": "960d0c3a",
   "metadata": {},
   "outputs": [],
   "source": [
    "from data import ConnectionString\n",
    "from IPython.core.interactiveshell import InteractiveShell\n",
    "\n",
    "import pandas as pd\n",
    "import matplotlib.pyplot as plt\n",
    "from sqlalchemy import create_engine\n",
    "from urllib.parse import quote_plus\n",
    "import numpy as np\n",
    "import seaborn as sns"
   ]
  },
  {
   "cell_type": "code",
   "execution_count": null,
   "id": "13a73a59",
   "metadata": {},
   "outputs": [],
   "source": [
    "# conn_str_builder = ConnectionString()\n",
    "# conn_str = conn_str_builder.setup_connection_string()\n",
    "# params = quote_plus(conn_str)\n",
    "# engine = create_engine(f\"mssql+pyodbc:///?odbc_connect={params}\")\n",
    "\n",
    "# try:\n",
    "#     df = pd.read_sql(\"SELECT * FROM dbo.AttendanceData\", engine)\n",
    "\n",
    "# except Exception as e:\n",
    "#     print(f\"Unable to Connect to SQL Server: {e}\")"
   ]
  },
  {
   "cell_type": "code",
   "execution_count": 109,
   "id": "3114883d",
   "metadata": {},
   "outputs": [
    {
     "name": "stderr",
     "output_type": "stream",
     "text": [
      "C:\\Users\\BVM11\\AppData\\Local\\Temp\\ipykernel_11132\\2546410154.py:1: DtypeWarning: Columns (9,15) have mixed types. Specify dtype option on import or set low_memory=False.\n",
      "  df = pd.read_csv('CompleteData.csv')\n"
     ]
    }
   ],
   "source": [
    "df = pd.read_csv('CompleteData.csv')"
   ]
  },
  {
   "cell_type": "code",
   "execution_count": 3,
   "id": "c9842012",
   "metadata": {},
   "outputs": [
    {
     "name": "stdout",
     "output_type": "stream",
     "text": [
      "<class 'pandas.core.frame.DataFrame'>\n",
      "RangeIndex: 2027982 entries, 0 to 2027981\n",
      "Data columns (total 17 columns):\n",
      " #   Column                       Dtype \n",
      "---  ------                       ----- \n",
      " 0   SCHOOL_YEAR                  object\n",
      " 1   DISTRICT_CODE                object\n",
      " 2   DISTRICT_NAME                object\n",
      " 3   LOCATION_ID                  object\n",
      " 4   SCHOOL_NAME                  object\n",
      " 5   STUDENT_ID                   object\n",
      " 6   Total_Days_Unexcused_Absent  object\n",
      " 7   Total_Days_Enrolled          object\n",
      " 8   Total_Days_Present           object\n",
      " 9   STUDENT_GRADE_LEVEL          object\n",
      " 10  CURR_GRADE_ORD               object\n",
      " 11  ETHNIC_CODE                  object\n",
      " 12  STUDENT_GENDER               object\n",
      " 13  ECONOMIC_CODE                object\n",
      " 14  SPECIAL_ED_CODE              object\n",
      " 15  ENG_PROF_CODE                object\n",
      " 16  HISPANIC_IND                 object\n",
      "dtypes: object(17)\n",
      "memory usage: 263.0+ MB\n"
     ]
    }
   ],
   "source": [
    "df.info()\n",
    "InteractiveShell.ast_node_interactivity = 'all' # type: ignore"
   ]
  },
  {
   "cell_type": "code",
   "execution_count": 4,
   "id": "1bf93229",
   "metadata": {},
   "outputs": [
    {
     "name": "stderr",
     "output_type": "stream",
     "text": [
      "C:\\Users\\BVM11\\AppData\\Local\\Temp\\ipykernel_11132\\2389374588.py:4: FutureWarning: Downcasting behavior in `replace` is deprecated and will be removed in a future version. To retain the old behavior, explicitly call `result.infer_objects(copy=False)`. To opt-in to the future behavior, set `pd.set_option('future.no_silent_downcasting', True)`\n",
      "  df['ECONOMIC_CODE'] = df['ECONOMIC_CODE'].replace(['F', 'N', 'R'], [1, 0, 1])\n",
      "C:\\Users\\BVM11\\AppData\\Local\\Temp\\ipykernel_11132\\2389374588.py:5: FutureWarning: Downcasting behavior in `replace` is deprecated and will be removed in a future version. To retain the old behavior, explicitly call `result.infer_objects(copy=False)`. To opt-in to the future behavior, set `pd.set_option('future.no_silent_downcasting', True)`\n",
      "  df['SPECIAL_ED_CODE'] = df['SPECIAL_ED_CODE'].replace(['Y', 'N'], [1, 0])\n",
      "C:\\Users\\BVM11\\AppData\\Local\\Temp\\ipykernel_11132\\2389374588.py:7: FutureWarning: Downcasting behavior in `replace` is deprecated and will be removed in a future version. To retain the old behavior, explicitly call `result.infer_objects(copy=False)`. To opt-in to the future behavior, set `pd.set_option('future.no_silent_downcasting', True)`\n",
      "  df['HISPANIC_IND'] = df['HISPANIC_IND'].replace(['No', 'Yes'], [0, 1])\n"
     ]
    }
   ],
   "source": [
    "df = df.drop('CURR_GRADE_ORD', axis=1)\n",
    "df['SCHOOL_YEAR'] = df['SCHOOL_YEAR'].str.split('-').str[0]\n",
    "df['STUDENT_GRADE_LEVEL'] = df['STUDENT_GRADE_LEVEL'].replace(['PK', 'KF', 'OS'], [-1, 0, -2])\n",
    "df['ECONOMIC_CODE'] = df['ECONOMIC_CODE'].replace(['F', 'N', 'R'], [1, 0, 1])\n",
    "df['SPECIAL_ED_CODE'] = df['SPECIAL_ED_CODE'].replace(['Y', 'N'], [1, 0])\n",
    "df['ENG_PROF_CODE'] = df['ENG_PROF_CODE'].replace('NT', -1)\n",
    "df['HISPANIC_IND'] = df['HISPANIC_IND'].replace(['No', 'Yes'], [0, 1])"
   ]
  },
  {
   "cell_type": "code",
   "execution_count": 5,
   "id": "758c06e0",
   "metadata": {},
   "outputs": [],
   "source": [
    "non_numeric_columns = ['SCHOOL_NAME', 'DISTRICT_NAME', 'ETHNIC_CODE', 'STUDENT_GENDER']\n",
    "float_cols = ['Total_Days_Unexcused_Absent', 'Total_Days_Enrolled', 'Total_Days_Present']\n",
    "\n",
    "numeric_columns = [col for col in df.columns if col not in [*non_numeric_columns, *float_cols]]\n",
    "\n",
    "for col in numeric_columns:\n",
    "    df[col] = df[col].astype(int)\n",
    "\n",
    "for col in float_cols:\n",
    "    df[col] = df[col].astype(float)"
   ]
  },
  {
   "cell_type": "code",
   "execution_count": 6,
   "id": "a61c247d",
   "metadata": {},
   "outputs": [],
   "source": [
    "attendance_cols = ['Total_Days_Present', 'Total_Days_Enrolled', 'Total_Days_Unexcused_Absent']\n",
    "other_cols = [col for col in df.columns if col not in attendance_cols]\n",
    "\n",
    "agg_dict = {key: 'sum' for key in attendance_cols}\n",
    "agg_dict.update({key: 'last' for key in other_cols})\n",
    "grouped_df = df.groupby(by=['STUDENT_ID', 'SCHOOL_YEAR']).agg(agg_dict).reset_index(drop=True)\n",
    "df = grouped_df[[*df.columns, *grouped_df.columns.difference(df.columns)]]"
   ]
  },
  {
   "cell_type": "code",
   "execution_count": 7,
   "id": "9c94d3e5",
   "metadata": {},
   "outputs": [],
   "source": [
    "# df.loc[1688836, 'Total_Days_Present'] = 54.0\n",
    "# df.loc[731523, 'Total_Days_Present'] = 1.0\n",
    "# df.loc[1904340, 'Total_Days_Present'] = 2.0\n",
    "# df.loc[1904340, 'Total_Days_Unexcused_Absent'] = 8.0\n",
    "# df.loc[1904340, 'Total_Days_Enrolled'] = 10.0\n",
    "# df.loc[[1016188, 1227776, 1400304, 1401473, 1413193], 'Total_Days_Unexcused_Absent'] = 0.0\n",
    "# df.loc[686159, 'Total_Days_Unexcused_Absent'] = 3.5\n",
    "# df.loc[687907, 'Total_Days_Unexcused_Absent'] = 4.0"
   ]
  },
  {
   "cell_type": "code",
   "execution_count": 8,
   "id": "6e0d64c5",
   "metadata": {},
   "outputs": [],
   "source": [
    "#12-th grade students\n",
    "grade_12_students = df[df['STUDENT_GRADE_LEVEL'] == 12]\n",
    "\n",
    "\n",
    "# Days Enrolled Greater than Unexcused + Present\n",
    "days_enr_gt_unexcpluspres = df[(df['Total_Days_Unexcused_Absent'] + df['Total_Days_Present']) > df['Total_Days_Enrolled']]\n",
    "\n",
    "# Grade inconsistencies (demotion of grades)\n",
    "df_sorted = df.sort_values(by=['STUDENT_ID', 'SCHOOL_YEAR'])\n",
    "grade_mask = df_sorted.groupby('STUDENT_ID')['STUDENT_GRADE_LEVEL'].diff().lt(0)\n",
    "grade_inconsitency_df = df[df['STUDENT_ID'].isin(df[grade_mask]['STUDENT_ID'].values)].sort_values(by='STUDENT_ID')\n",
    "\n",
    "# Drop list\n",
    "negative_values_indices = [1688836, 731523, 1904340, *[1016188, 1227776, 1400304, 1401473, 1413193], 686159, 687907]\n",
    "\n",
    "drop_list = [*days_enr_gt_unexcpluspres.index, *grade_inconsitency_df.index, *grade_12_students.index, *negative_values_indices, *df[df['Total_Days_Enrolled'] > 300].index]\n",
    "\n",
    "df = df.drop(drop_list, axis=0)"
   ]
  },
  {
   "cell_type": "code",
   "execution_count": 9,
   "id": "90a29fab",
   "metadata": {},
   "outputs": [],
   "source": [
    "mask = df.groupby('STUDENT_ID')['STUDENT_GENDER'].transform('nunique').gt(1)\n",
    "gender_change_df = df[mask].sort_values(by=['STUDENT_ID', 'SCHOOL_YEAR'])\n",
    "gender_change_df['STUDENT_GENDER'] = gender_change_df.groupby('STUDENT_ID')['STUDENT_GENDER'].transform('last')\n",
    "\n",
    "df = df.drop(gender_change_df.index, axis=0)\n",
    "df = pd.concat([df, gender_change_df], axis=0).reset_index(drop=True)\n",
    "\n",
    "df['Attendance_Rate'] = df['Total_Days_Present'] / df['Total_Days_Enrolled']"
   ]
  },
  {
   "cell_type": "code",
   "execution_count": 10,
   "id": "2b9f77ff",
   "metadata": {},
   "outputs": [],
   "source": [
    "count_series = df.groupby('STUDENT_ID')['SCHOOL_YEAR'].nunique()\n",
    "training_data = df[df['STUDENT_ID'].isin(count_series[count_series == 6].index)].sort_values(by=['STUDENT_ID', 'SCHOOL_YEAR'])"
   ]
  },
  {
   "cell_type": "code",
   "execution_count": 11,
   "id": "68ac2b26",
   "metadata": {},
   "outputs": [],
   "source": [
    "five_year_data = df[df['STUDENT_ID'].isin(count_series[count_series == 5].index)].sort_values(by=['STUDENT_ID', 'SCHOOL_YEAR'])\n",
    "non_imputation_data = five_year_data[five_year_data['STUDENT_GRADE_LEVEL'] == -1]\n",
    "dropping_data = five_year_data[five_year_data['STUDENT_ID'].isin(non_imputation_data['STUDENT_ID'].unique())]\n",
    "\n",
    "five_year_data = five_year_data.drop(dropping_data.index, axis=0).reset_index(drop=True)"
   ]
  },
  {
   "cell_type": "code",
   "execution_count": 12,
   "id": "a54014ef",
   "metadata": {},
   "outputs": [
    {
     "name": "stderr",
     "output_type": "stream",
     "text": [
      "C:\\Users\\BVM11\\AppData\\Local\\Temp\\ipykernel_11132\\1568285024.py:16: DeprecationWarning: DataFrameGroupBy.apply operated on the grouping columns. This behavior is deprecated, and in a future version of pandas the grouping columns will be excluded from the operation. Either pass `include_groups=False` to exclude the groupings or explicitly select the grouping columns after groupby to silence this warning.\n",
      "  five_year_data.groupby('STUDENT_ID').apply(need_non_linear_impute).sum()\n"
     ]
    },
    {
     "data": {
      "text/plain": [
       "np.int64(0)"
      ]
     },
     "execution_count": 12,
     "metadata": {},
     "output_type": "execute_result"
    }
   ],
   "source": [
    "# Checking if linear interpolation is good\n",
    "\n",
    "def need_non_linear_impute(group, thresh=0.2):\n",
    "    g = group.set_index('SCHOOL_YEAR').sort_index()\n",
    "    missing = set([2019, 2020, 2021, 2022, 2023]) - set(g.index)\n",
    "\n",
    "    for yr in missing:\n",
    "        if yr - 1 in g.index and yr + 1 in g.index:\n",
    "            left, right = int(g.loc[[yr - 1, yr + 1], 'Total_Days_Present'].values[0]), int(g.loc[[yr - 1, yr + 1], 'Total_Days_Present'].values[0])\n",
    "            if abs(right - left) / max(1, max(left, right)) > thresh:\n",
    "                return True\n",
    "        \n",
    "    return False\n",
    "\n",
    "\n",
    "five_year_data.groupby('STUDENT_ID').apply(need_non_linear_impute).sum()"
   ]
  },
  {
   "cell_type": "code",
   "execution_count": 13,
   "id": "ce07b035",
   "metadata": {},
   "outputs": [
    {
     "name": "stderr",
     "output_type": "stream",
     "text": [
      "C:\\Users\\BVM11\\AppData\\Local\\Temp\\ipykernel_11132\\3221770233.py:22: DeprecationWarning: DataFrameGroupBy.apply operated on the grouping columns. This behavior is deprecated, and in a future version of pandas the grouping columns will be excluded from the operation. Either pass `include_groups=False` to exclude the groupings or explicitly select the grouping columns after groupby to silence this warning.\n",
      "  five_year_data = five_year_data.groupby('STUDENT_ID').apply(impute)\n"
     ]
    }
   ],
   "source": [
    "# Imputing missing data for five year students using linear interpolation\n",
    "full_years = range(2019, 2025)\n",
    "attendance_cols = ['Total_Days_Present', 'Total_Days_Enrolled', 'Total_Days_Unexcused_Absent']\n",
    "explicit_columns = ['STUDENT_GRADE_LEVEL', 'Attendance_Rate']\n",
    "static_cols = [col for col in five_year_data.columns if col not in attendance_cols + explicit_columns and col != 'SCHOOL_YEAR']\n",
    "\n",
    "def impute(group):\n",
    "    g = group.set_index('SCHOOL_YEAR').sort_index()\n",
    "    g = g.reindex(full_years)\n",
    "\n",
    "    g['Is_Imputed'] = g[attendance_cols].isna().any(axis=1)\n",
    "\n",
    "    g[static_cols] = g[static_cols].ffill().bfill()\n",
    "    g[attendance_cols] = g[attendance_cols].interpolate(method='linear', limit_direction='both').round(0).astype('float')\n",
    "    g['Attendance_Rate'] = g['Total_Days_Present'] / group['Total_Days_Enrolled']\n",
    "\n",
    "    g['STUDENT_GRADE_LEVEL_Check'] = g['STUDENT_GRADE_LEVEL'].ffill().bfill()\n",
    "    g['STUDENT_GRADE_LEVEL'] = g['STUDENT_GRADE_LEVEL'].fillna(g['STUDENT_GRADE_LEVEL_Check'] + 1)\n",
    "\n",
    "    return g.reset_index()\n",
    "\n",
    "five_year_data = five_year_data.groupby('STUDENT_ID').apply(impute)"
   ]
  },
  {
   "cell_type": "code",
   "execution_count": 88,
   "id": "d8b44892",
   "metadata": {},
   "outputs": [],
   "source": [
    "# Cleaning Up and Rejoining\n",
    "five_year_data = five_year_data.reset_index(drop=True)\n",
    "# five_year_data = five_year_data.drop(['STUDENT_GRADE_LEVEL_Check'], axis=1)\n",
    "five_year_data['Attendance_Rate'] = five_year_data['Total_Days_Present'] / five_year_data['Total_Days_Enrolled']\n",
    "\n",
    "integer_cols = [col for col in five_year_data.select_dtypes(include='number') if col not in attendance_cols + ['Attendance_Rate']]\n",
    "five_year_data[integer_cols] = five_year_data[integer_cols].astype(int)\n",
    "\n",
    "training_df = pd.concat([training_data, five_year_data], axis=0).sort_values(by=['STUDENT_ID', 'SCHOOL_YEAR']).reset_index(drop=True)\n",
    "training_df['Is_Imputed'] = training_df['Is_Imputed'].fillna(0).astype(int)"
   ]
  },
  {
   "cell_type": "code",
   "execution_count": null,
   "id": "419e166f",
   "metadata": {},
   "outputs": [
    {
     "data": {
      "text/plain": [
       "'\\nColumns to Add:\\n\\n    1) Lag 1, Lag 2\\n    2) Difference in Lags\\n    3) Expanding and Rolling Averages\\n    4) Chronic Absence Flags\\n    5) \\n'"
      ]
     },
     "execution_count": 15,
     "metadata": {},
     "output_type": "execute_result"
    }
   ],
   "source": [
    "# Feature Engineering\n",
    "\n",
    "\"\"\"\n",
    "Columns to Add:\n",
    "\n",
    "    1) Lag 1, Lag 2 -> Done\n",
    "    2) Difference in Lags\n",
    "    3) Expanding and Rolling Averages\n",
    "    4) Chronic Absence Flags -> Done\n",
    "    5) School and District Averages\n",
    "    6) Peer Context\n",
    "    7) Number of direction changes\n",
    "    8) Interaction Features\n",
    "    9) Grade Progression\n",
    "\"\"\""
   ]
  },
  {
   "cell_type": "code",
   "execution_count": 89,
   "id": "d8bfd2ad",
   "metadata": {},
   "outputs": [],
   "source": [
    "# Pivoting\n",
    "attendance_pivot = training_df.pivot(index='STUDENT_ID', columns='SCHOOL_YEAR', values='Attendance_Rate').add_prefix('Attendance_Rate_').reset_index().rename_axis(None, axis=1)\n",
    "\n",
    "absent_pivot = training_df.pivot(index='STUDENT_ID', columns='SCHOOL_YEAR', values='Total_Days_Unexcused_Absent').add_prefix('Total_Days_Unexcused_Absent_').rename_axis(None, axis=1).reset_index()\n",
    "\n",
    "present_pivot = training_df.pivot(index='STUDENT_ID', columns='SCHOOL_YEAR', values='Total_Days_Present').add_prefix('Total_Days_Present_').rename_axis(None, axis=1).reset_index()\n",
    "\n",
    "enrolled_pivot = training_df.pivot(index='STUDENT_ID', columns='SCHOOL_YEAR', values='Total_Days_Enrolled').add_prefix('Total_Days_Enrolled_').rename_axis(None, axis=1).reset_index()\n",
    "\n",
    "grade_pivot = training_df.pivot(index='STUDENT_ID', columns='SCHOOL_YEAR', values='STUDENT_GRADE_LEVEL').add_prefix('STUDENT_GRADE_LEVEL_').rename_axis(None, axis=1).reset_index()\n",
    "\n",
    "imputed_pivot = training_df.pivot(index='STUDENT_ID', columns='SCHOOL_YEAR', values='Is_Imputed').add_prefix('Is_Imputed_').rename_axis(None, axis=1).reset_index()"
   ]
  },
  {
   "cell_type": "code",
   "execution_count": 90,
   "id": "f623efaf",
   "metadata": {},
   "outputs": [],
   "source": [
    "non_aggregate_cols = ['Total_Days_Unexcused_Absent', 'Total_Days_Enrolled', 'Total_Days_Present', 'STUDENT_GRADE_LEVEL', 'Attendance_Rate', 'Is_Imputed']\n",
    "\n",
    "aggreagte_cols = [col for col in training_df.columns if col not in non_aggregate_cols]\n",
    "last_agg_dict = {key: 'last' for key in aggreagte_cols}\n",
    "\n",
    "aggregated_df = training_df.groupby('STUDENT_ID').agg(last_agg_dict).reset_index(drop=True)"
   ]
  },
  {
   "cell_type": "code",
   "execution_count": 91,
   "id": "97fa72aa",
   "metadata": {},
   "outputs": [],
   "source": [
    "# Merging Pivot Columns into a dataframe\n",
    "training_df = pd.concat([attendance_pivot.iloc[:, 1:], absent_pivot.iloc[:, 1:], present_pivot.iloc[:, 1:], enrolled_pivot.iloc[:, 1:], grade_pivot.iloc[:, 1:], imputed_pivot.iloc[:, 1:], aggregated_df], axis=1)"
   ]
  },
  {
   "cell_type": "code",
   "execution_count": 103,
   "id": "dd9435ad",
   "metadata": {},
   "outputs": [],
   "source": [
    "def build_features(year):\n",
    "    training_df[f'Lag_1_{year}'] = training_df[f'Attendance_Rate_{year - 1}'] if f'Attendance_Rate_{year - 1}' in training_df.columns else np.nan\n",
    "\n",
    "    training_df[f'Lag_2_{year}'] = training_df[f'Attendance_Rate_{year - 2}'] if f'Attendance_Rate_{year - 2}' in training_df.columns else np.nan\n",
    "\n",
    "    training_df[f'Is_Chronically_Absent_{year}'] = (training_df[f'Attendance_Rate_{year}'] < 0.85).astype(int)\n",
    "\n",
    "    training_df[f'School_Average_{year}'] = training_df.groupby('LOCATION_ID')[f'Attendance_Rate_{year}'].median()\n",
    "\n",
    "    training_df[f'District Average_{year}'] = training_df.groupby('DISTRICT_CODE')[f'Attendance_Rate_{year}'].median()\n",
    "\n",
    "    training_df[f'Grade_Average_{year}'] = training_df.groupby(f'STUDENT_GRADE_LEVEL_{year}')[f'Attendance_Rate_{year}'].median()\n",
    "\n",
    "for year in range(2019, 2025):\n",
    "    build_features(year)"
   ]
  },
  {
   "cell_type": "code",
   "execution_count": 108,
   "id": "ba9438a0",
   "metadata": {},
   "outputs": [
    {
     "data": {
      "text/html": [
       "<div>\n",
       "<style scoped>\n",
       "    .dataframe tbody tr th:only-of-type {\n",
       "        vertical-align: middle;\n",
       "    }\n",
       "\n",
       "    .dataframe tbody tr th {\n",
       "        vertical-align: top;\n",
       "    }\n",
       "\n",
       "    .dataframe thead th {\n",
       "        text-align: right;\n",
       "    }\n",
       "</style>\n",
       "<table border=\"1\" class=\"dataframe\">\n",
       "  <thead>\n",
       "    <tr style=\"text-align: right;\">\n",
       "      <th></th>\n",
       "      <th></th>\n",
       "      <th>count</th>\n",
       "      <th>mean</th>\n",
       "      <th>std</th>\n",
       "      <th>min</th>\n",
       "      <th>25%</th>\n",
       "      <th>50%</th>\n",
       "      <th>75%</th>\n",
       "      <th>max</th>\n",
       "    </tr>\n",
       "    <tr>\n",
       "      <th>LOCATION_ID</th>\n",
       "      <th>STUDENT_GRADE_LEVEL_2020</th>\n",
       "      <th></th>\n",
       "      <th></th>\n",
       "      <th></th>\n",
       "      <th></th>\n",
       "      <th></th>\n",
       "      <th></th>\n",
       "      <th></th>\n",
       "      <th></th>\n",
       "    </tr>\n",
       "  </thead>\n",
       "  <tbody>\n",
       "    <tr>\n",
       "      <th rowspan=\"5\" valign=\"top\">1</th>\n",
       "      <th>-1</th>\n",
       "      <td>91.0</td>\n",
       "      <td>0.896823</td>\n",
       "      <td>0.195111</td>\n",
       "      <td>0.000000</td>\n",
       "      <td>0.891447</td>\n",
       "      <td>0.955882</td>\n",
       "      <td>1.000000</td>\n",
       "      <td>1.0</td>\n",
       "    </tr>\n",
       "    <tr>\n",
       "      <th>0</th>\n",
       "      <td>1092.0</td>\n",
       "      <td>0.942599</td>\n",
       "      <td>0.058460</td>\n",
       "      <td>0.457831</td>\n",
       "      <td>0.924242</td>\n",
       "      <td>0.955390</td>\n",
       "      <td>0.984158</td>\n",
       "      <td>1.0</td>\n",
       "    </tr>\n",
       "    <tr>\n",
       "      <th>1</th>\n",
       "      <td>1384.0</td>\n",
       "      <td>0.949941</td>\n",
       "      <td>0.048971</td>\n",
       "      <td>0.600000</td>\n",
       "      <td>0.932331</td>\n",
       "      <td>0.961538</td>\n",
       "      <td>0.984526</td>\n",
       "      <td>1.0</td>\n",
       "    </tr>\n",
       "    <tr>\n",
       "      <th>2</th>\n",
       "      <td>2077.0</td>\n",
       "      <td>0.960381</td>\n",
       "      <td>0.040829</td>\n",
       "      <td>0.568421</td>\n",
       "      <td>0.943503</td>\n",
       "      <td>0.970833</td>\n",
       "      <td>0.991870</td>\n",
       "      <td>1.0</td>\n",
       "    </tr>\n",
       "    <tr>\n",
       "      <th>3</th>\n",
       "      <td>2248.0</td>\n",
       "      <td>0.959857</td>\n",
       "      <td>0.047515</td>\n",
       "      <td>0.000000</td>\n",
       "      <td>0.942434</td>\n",
       "      <td>0.970803</td>\n",
       "      <td>0.992308</td>\n",
       "      <td>1.0</td>\n",
       "    </tr>\n",
       "    <tr>\n",
       "      <th>...</th>\n",
       "      <th>...</th>\n",
       "      <td>...</td>\n",
       "      <td>...</td>\n",
       "      <td>...</td>\n",
       "      <td>...</td>\n",
       "      <td>...</td>\n",
       "      <td>...</td>\n",
       "      <td>...</td>\n",
       "      <td>...</td>\n",
       "    </tr>\n",
       "    <tr>\n",
       "      <th rowspan=\"5\" valign=\"top\">952</th>\n",
       "      <th>1</th>\n",
       "      <td>22.0</td>\n",
       "      <td>0.988451</td>\n",
       "      <td>0.025953</td>\n",
       "      <td>0.895833</td>\n",
       "      <td>0.994231</td>\n",
       "      <td>1.000000</td>\n",
       "      <td>1.000000</td>\n",
       "      <td>1.0</td>\n",
       "    </tr>\n",
       "    <tr>\n",
       "      <th>2</th>\n",
       "      <td>20.0</td>\n",
       "      <td>0.996443</td>\n",
       "      <td>0.011059</td>\n",
       "      <td>0.959627</td>\n",
       "      <td>1.000000</td>\n",
       "      <td>1.000000</td>\n",
       "      <td>1.000000</td>\n",
       "      <td>1.0</td>\n",
       "    </tr>\n",
       "    <tr>\n",
       "      <th>3</th>\n",
       "      <td>17.0</td>\n",
       "      <td>0.998190</td>\n",
       "      <td>0.007463</td>\n",
       "      <td>0.969231</td>\n",
       "      <td>1.000000</td>\n",
       "      <td>1.000000</td>\n",
       "      <td>1.000000</td>\n",
       "      <td>1.0</td>\n",
       "    </tr>\n",
       "    <tr>\n",
       "      <th>4</th>\n",
       "      <td>16.0</td>\n",
       "      <td>0.991382</td>\n",
       "      <td>0.019640</td>\n",
       "      <td>0.924812</td>\n",
       "      <td>0.992018</td>\n",
       "      <td>1.000000</td>\n",
       "      <td>1.000000</td>\n",
       "      <td>1.0</td>\n",
       "    </tr>\n",
       "    <tr>\n",
       "      <th>5</th>\n",
       "      <td>2.0</td>\n",
       "      <td>1.000000</td>\n",
       "      <td>0.000000</td>\n",
       "      <td>1.000000</td>\n",
       "      <td>1.000000</td>\n",
       "      <td>1.000000</td>\n",
       "      <td>1.000000</td>\n",
       "      <td>1.0</td>\n",
       "    </tr>\n",
       "  </tbody>\n",
       "</table>\n",
       "<p>2039 rows × 8 columns</p>\n",
       "</div>"
      ],
      "text/plain": [
       "                                       count      mean       std       min  \\\n",
       "LOCATION_ID STUDENT_GRADE_LEVEL_2020                                         \n",
       "1           -1                          91.0  0.896823  0.195111  0.000000   \n",
       "             0                        1092.0  0.942599  0.058460  0.457831   \n",
       "             1                        1384.0  0.949941  0.048971  0.600000   \n",
       "             2                        2077.0  0.960381  0.040829  0.568421   \n",
       "             3                        2248.0  0.959857  0.047515  0.000000   \n",
       "...                                      ...       ...       ...       ...   \n",
       "952          1                          22.0  0.988451  0.025953  0.895833   \n",
       "             2                          20.0  0.996443  0.011059  0.959627   \n",
       "             3                          17.0  0.998190  0.007463  0.969231   \n",
       "             4                          16.0  0.991382  0.019640  0.924812   \n",
       "             5                           2.0  1.000000  0.000000  1.000000   \n",
       "\n",
       "                                           25%       50%       75%  max  \n",
       "LOCATION_ID STUDENT_GRADE_LEVEL_2020                                     \n",
       "1           -1                        0.891447  0.955882  1.000000  1.0  \n",
       "             0                        0.924242  0.955390  0.984158  1.0  \n",
       "             1                        0.932331  0.961538  0.984526  1.0  \n",
       "             2                        0.943503  0.970833  0.991870  1.0  \n",
       "             3                        0.942434  0.970803  0.992308  1.0  \n",
       "...                                        ...       ...       ...  ...  \n",
       "952          1                        0.994231  1.000000  1.000000  1.0  \n",
       "             2                        1.000000  1.000000  1.000000  1.0  \n",
       "             3                        1.000000  1.000000  1.000000  1.0  \n",
       "             4                        0.992018  1.000000  1.000000  1.0  \n",
       "             5                        1.000000  1.000000  1.000000  1.0  \n",
       "\n",
       "[2039 rows x 8 columns]"
      ]
     },
     "execution_count": 108,
     "metadata": {},
     "output_type": "execute_result"
    }
   ],
   "source": [
    "training_df.groupby(by=['LOCATION_ID', f'STUDENT_GRADE_LEVEL_2020'])[f'Attendance_Rate_2020'].describe()"
   ]
  },
  {
   "cell_type": "code",
   "execution_count": null,
   "id": "859da61e",
   "metadata": {},
   "outputs": [],
   "source": []
  }
 ],
 "metadata": {
  "kernelspec": {
   "display_name": ".venv",
   "language": "python",
   "name": "python3"
  },
  "language_info": {
   "codemirror_mode": {
    "name": "ipython",
    "version": 3
   },
   "file_extension": ".py",
   "mimetype": "text/x-python",
   "name": "python",
   "nbconvert_exporter": "python",
   "pygments_lexer": "ipython3",
   "version": "3.13.3"
  }
 },
 "nbformat": 4,
 "nbformat_minor": 5
}
