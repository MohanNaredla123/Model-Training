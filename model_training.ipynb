{
 "cells": [
  {
   "cell_type": "code",
   "execution_count": 19,
   "id": "960d0c3a",
   "metadata": {},
   "outputs": [],
   "source": [
    "from data import ConnectionString\n",
    "from IPython.core.interactiveshell import InteractiveShell\n",
    "\n",
    "import pandas as pd\n",
    "import matplotlib.pyplot as plt\n",
    "from sqlalchemy import create_engine\n",
    "from urllib.parse import quote_plus\n",
    "import numpy as np\n",
    "import seaborn as sns"
   ]
  },
  {
   "cell_type": "code",
   "execution_count": 11,
   "id": "13a73a59",
   "metadata": {},
   "outputs": [],
   "source": [
    "conn_str_builder = ConnectionString()\n",
    "conn_str = conn_str_builder.setup_connection_string()\n",
    "params = quote_plus(conn_str)\n",
    "engine = create_engine(f\"mssql+pyodbc:///?odbc_connect={params}\")\n",
    "\n",
    "try:\n",
    "    df = pd.read_sql(\"SELECT * FROM dbo.AttendanceData\", engine)\n",
    "\n",
    "except Exception as e:\n",
    "    print(f\"Unable to Connect to SQL Server: {e}\")"
   ]
  },
  {
   "cell_type": "code",
   "execution_count": 3,
   "id": "c9842012",
   "metadata": {},
   "outputs": [
    {
     "name": "stdout",
     "output_type": "stream",
     "text": [
      "<class 'pandas.core.frame.DataFrame'>\n",
      "RangeIndex: 2027982 entries, 0 to 2027981\n",
      "Data columns (total 17 columns):\n",
      " #   Column                       Dtype \n",
      "---  ------                       ----- \n",
      " 0   SCHOOL_YEAR                  object\n",
      " 1   DISTRICT_CODE                object\n",
      " 2   DISTRICT_NAME                object\n",
      " 3   LOCATION_ID                  object\n",
      " 4   SCHOOL_NAME                  object\n",
      " 5   STUDENT_ID                   object\n",
      " 6   Total_Days_Unexcused_Absent  object\n",
      " 7   Total_Days_Enrolled          object\n",
      " 8   Total_Days_Present           object\n",
      " 9   STUDENT_GRADE_LEVEL          object\n",
      " 10  CURR_GRADE_ORD               object\n",
      " 11  ETHNIC_CODE                  object\n",
      " 12  STUDENT_GENDER               object\n",
      " 13  ECONOMIC_CODE                object\n",
      " 14  SPECIAL_ED_CODE              object\n",
      " 15  ENG_PROF_CODE                object\n",
      " 16  HISPANIC_IND                 object\n",
      "dtypes: object(17)\n",
      "memory usage: 263.0+ MB\n"
     ]
    }
   ],
   "source": [
    "df.info()\n",
    "InteractiveShell.ast_node_interactivity = 'all' # type: ignore"
   ]
  },
  {
   "cell_type": "code",
   "execution_count": 12,
   "id": "1bf93229",
   "metadata": {},
   "outputs": [
    {
     "name": "stderr",
     "output_type": "stream",
     "text": [
      "C:\\Users\\BVM11\\AppData\\Local\\Temp\\ipykernel_7968\\2389374588.py:4: FutureWarning: Downcasting behavior in `replace` is deprecated and will be removed in a future version. To retain the old behavior, explicitly call `result.infer_objects(copy=False)`. To opt-in to the future behavior, set `pd.set_option('future.no_silent_downcasting', True)`\n",
      "  df['ECONOMIC_CODE'] = df['ECONOMIC_CODE'].replace(['F', 'N', 'R'], [1, 0, 1])\n",
      "C:\\Users\\BVM11\\AppData\\Local\\Temp\\ipykernel_7968\\2389374588.py:5: FutureWarning: Downcasting behavior in `replace` is deprecated and will be removed in a future version. To retain the old behavior, explicitly call `result.infer_objects(copy=False)`. To opt-in to the future behavior, set `pd.set_option('future.no_silent_downcasting', True)`\n",
      "  df['SPECIAL_ED_CODE'] = df['SPECIAL_ED_CODE'].replace(['Y', 'N'], [1, 0])\n",
      "C:\\Users\\BVM11\\AppData\\Local\\Temp\\ipykernel_7968\\2389374588.py:7: FutureWarning: Downcasting behavior in `replace` is deprecated and will be removed in a future version. To retain the old behavior, explicitly call `result.infer_objects(copy=False)`. To opt-in to the future behavior, set `pd.set_option('future.no_silent_downcasting', True)`\n",
      "  df['HISPANIC_IND'] = df['HISPANIC_IND'].replace(['No', 'Yes'], [0, 1])\n"
     ]
    }
   ],
   "source": [
    "df = df.drop('CURR_GRADE_ORD', axis=1)\n",
    "df['SCHOOL_YEAR'] = df['SCHOOL_YEAR'].str.split('-').str[0]\n",
    "df['STUDENT_GRADE_LEVEL'] = df['STUDENT_GRADE_LEVEL'].replace(['PK', 'KF', 'OS'], [-1, 0, -2])\n",
    "df['ECONOMIC_CODE'] = df['ECONOMIC_CODE'].replace(['F', 'N', 'R'], [1, 0, 1])\n",
    "df['SPECIAL_ED_CODE'] = df['SPECIAL_ED_CODE'].replace(['Y', 'N'], [1, 0])\n",
    "df['ENG_PROF_CODE'] = df['ENG_PROF_CODE'].replace('NT', -1)\n",
    "df['HISPANIC_IND'] = df['HISPANIC_IND'].replace(['No', 'Yes'], [0, 1])"
   ]
  },
  {
   "cell_type": "code",
   "execution_count": 13,
   "id": "758c06e0",
   "metadata": {},
   "outputs": [],
   "source": [
    "non_numeric_columns = ['SCHOOL_NAME', 'DISTRICT_NAME', 'ETHNIC_CODE', 'STUDENT_GENDER']\n",
    "float_cols = ['Total_Days_Unexcused_Absent', 'Total_Days_Enrolled', 'Total_Days_Present']\n",
    "\n",
    "numeric_columns = [col for col in df.columns if col not in [*non_numeric_columns, *float_cols]]\n",
    "\n",
    "for col in numeric_columns:\n",
    "    df[col] = df[col].astype(int)\n",
    "\n",
    "for col in float_cols:\n",
    "    df[col] = df[col].astype(float)"
   ]
  },
  {
   "cell_type": "code",
   "execution_count": null,
   "id": "9c94d3e5",
   "metadata": {},
   "outputs": [],
   "source": [
    "# df.loc[1688836, 'Total_Days_Present'] = 54.0\n",
    "# df.loc[731523, 'Total_Days_Present'] = 1.0\n",
    "# df.loc[1904340, 'Total_Days_Present'] = 2.0\n",
    "# df.loc[1904340, 'Total_Days_Unexcused_Absent'] = 8.0\n",
    "# df.loc[1904340, 'Total_Days_Enrolled'] = 10.0\n",
    "# df.loc[[1016188, 1227776, 1400304, 1401473, 1413193], 'Total_Days_Unexcused_Absent'] = 0.0\n",
    "# df.loc[686159, 'Total_Days_Unexcused_Absent'] = 3.5\n",
    "# df.loc[687907, 'Total_Days_Unexcused_Absent'] = 4.0"
   ]
  },
  {
   "cell_type": "code",
   "execution_count": null,
   "id": "6e0d64c5",
   "metadata": {},
   "outputs": [
    {
     "name": "stderr",
     "output_type": "stream",
     "text": [
      "C:\\Users\\BVM11\\AppData\\Local\\Temp\\ipykernel_7968\\2825459957.py:7: UserWarning: Boolean Series key will be reindexed to match DataFrame index.\n",
      "  grade_inconsitency_df = df[df['STUDENT_ID'].isin(df[grade_mask]['STUDENT_ID'].values)].sort_values(by='STUDENT_ID')\n"
     ]
    }
   ],
   "source": [
    "#12-th grade students\n",
    "grade_12_students = df[df['STUDENT_GRADE_LEVEL'] == 12]\n",
    "\n",
    "# Days Enrolled Greater than Unexcused + Present\n",
    "days_enr_gt_unexcpluspres = df[(df['Total_Days_Unexcused_Absent'] + df['Total_Days_Present']) > df['Total_Days_Enrolled']]\n",
    "\n",
    "# Grade inconsistencies (demotion of grades)\n",
    "df_sorted = df.sort_values(by=['STUDENT_ID', 'SCHOOL_YEAR'])\n",
    "grade_mask = df_sorted.groupby('STUDENT_ID')['STUDENT_GRADE_LEVEL'].diff().lt(0)\n",
    "grade_inconsitency_df = df[df['STUDENT_ID'].isin(df[grade_mask]['STUDENT_ID'].values)].sort_values(by='STUDENT_ID')\n",
    "\n",
    "# Drop list\n",
    "negative_values_indices = [1688836, 731523, 1904340, *[1016188, 1227776, 1400304, 1401473, 1413193], 686159, 687907]\n",
    "drop_list = [*days_enr_gt_unexcpluspres.index, *grade_inconsitency_df.index, *grade_12_students.index, *negative_values_indices]\n",
    "\n",
    "df.drop(drop_list, ind)"
   ]
  },
  {
   "cell_type": "code",
   "execution_count": 9,
   "id": "90a29fab",
   "metadata": {},
   "outputs": [],
   "source": [
    "mask = df.groupby('STUDENT_ID')['STUDENT_GENDER'].transform('nunique').gt(1)\n",
    "gender_change_df = df[mask].sort_values(by=['STUDENT_ID', 'SCHOOL_YEAR'])\n",
    "gender_change_df['STUDENT_GENDER'] = gender_change_df.groupby('STUDENT_ID')['STUDENT_GENDER'].transform('last')\n",
    "\n",
    "df = df.drop(gender_change_df.index, axis=0)\n",
    "df = pd.concat([df, gender_change_df], axis=0).reset_index(drop=True)"
   ]
  },
  {
   "cell_type": "code",
   "execution_count": 17,
   "id": "86ac85cd",
   "metadata": {},
   "outputs": [],
   "source": [
    "df['Attendance_Rate'] = df['Total_Days_Present'] / df['Total_Days_Enrolled']"
   ]
  },
  {
   "cell_type": "code",
   "execution_count": 20,
   "id": "56e7e485",
   "metadata": {},
   "outputs": [
    {
     "data": {
      "text/plain": [
       "<Axes: xlabel='Attendance_Rate', ylabel='Count'>"
      ]
     },
     "execution_count": 20,
     "metadata": {},
     "output_type": "execute_result"
    },
    {
     "data": {
      "image/png": "[encoded data removed]",
      "text/plain": [
       "<Figure size 640x480 with 1 Axes>"
      ]
     },
     "metadata": {},
     "output_type": "display_data"
    }
   ],
   "source": [
    "sns.histplot(df['Attendance_Rate'], bins=30, kde=True)"
   ]
  },
  {
   "cell_type": "code",
   "execution_count": null,
   "id": "e87177d4",
   "metadata": {},
   "outputs": [],
   "source": []
  }
 ],
 "metadata": {
  "kernelspec": {
   "display_name": ".venv",
   "language": "python",
   "name": "python3"
  },
  "language_info": {
   "codemirror_mode": {
    "name": "ipython",
    "version": 3
   },
   "file_extension": ".py",
   "mimetype": "text/x-python",
   "name": "python",
   "nbconvert_exporter": "python",
   "pygments_lexer": "ipython3",
   "version": "3.11.12"
  }
 },
 "nbformat": 4,
 "nbformat_minor": 5
}
